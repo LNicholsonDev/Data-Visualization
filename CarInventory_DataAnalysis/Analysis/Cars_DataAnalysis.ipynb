{
 "cells": [
  {
   "cell_type": "markdown",
   "metadata": {},
   "source": [
    "# Exercise 8-2: Analyze the Cars data"
   ]
  },
  {
   "cell_type": "markdown",
   "metadata": {},
   "source": [
    "**Name:**  Leah Nicholson <br/>\n",
    "**Class:**  Data Visualization DEV 228<br/>\n",
    "**Date:**  05/31/2025<br/>\n",
    "**Desc:**  Melting, ranking, binning, grouping, aggregating, displaying data for Cars dataset"
   ]
  },
  {
   "cell_type": "markdown",
   "metadata": {},
   "source": [
    "## Import the data"
   ]
  },
  {
   "cell_type": "code",
   "execution_count": 4,
   "metadata": {},
   "outputs": [],
   "source": [
    "import pandas as pd\n",
    "import seaborn as sns"
   ]
  },
  {
   "cell_type": "code",
   "execution_count": 5,
   "metadata": {},
   "outputs": [],
   "source": [
    "cars = pd.read_pickle('cars.pkl')"
   ]
  },
  {
   "cell_type": "code",
   "execution_count": 6,
   "metadata": {},
   "outputs": [
    {
     "data": {
      "text/html": [
       "<div>\n",
       "<style scoped>\n",
       "    .dataframe tbody tr th:only-of-type {\n",
       "        vertical-align: middle;\n",
       "    }\n",
       "\n",
       "    .dataframe tbody tr th {\n",
       "        vertical-align: top;\n",
       "    }\n",
       "\n",
       "    .dataframe thead th {\n",
       "        text-align: right;\n",
       "    }\n",
       "</style>\n",
       "<table border=\"1\" class=\"dataframe\">\n",
       "  <thead>\n",
       "    <tr style=\"text-align: right;\">\n",
       "      <th></th>\n",
       "      <th>aspiration</th>\n",
       "      <th>carbody</th>\n",
       "      <th>enginesize</th>\n",
       "      <th>curbweight</th>\n",
       "      <th>price</th>\n",
       "    </tr>\n",
       "  </thead>\n",
       "  <tbody>\n",
       "    <tr>\n",
       "      <th>0</th>\n",
       "      <td>std</td>\n",
       "      <td>convertible</td>\n",
       "      <td>130</td>\n",
       "      <td>2548</td>\n",
       "      <td>13495.0</td>\n",
       "    </tr>\n",
       "    <tr>\n",
       "      <th>1</th>\n",
       "      <td>std</td>\n",
       "      <td>convertible</td>\n",
       "      <td>130</td>\n",
       "      <td>2548</td>\n",
       "      <td>16500.0</td>\n",
       "    </tr>\n",
       "    <tr>\n",
       "      <th>2</th>\n",
       "      <td>std</td>\n",
       "      <td>hatchback</td>\n",
       "      <td>152</td>\n",
       "      <td>2823</td>\n",
       "      <td>16500.0</td>\n",
       "    </tr>\n",
       "    <tr>\n",
       "      <th>3</th>\n",
       "      <td>std</td>\n",
       "      <td>sedan</td>\n",
       "      <td>109</td>\n",
       "      <td>2337</td>\n",
       "      <td>13950.0</td>\n",
       "    </tr>\n",
       "    <tr>\n",
       "      <th>4</th>\n",
       "      <td>std</td>\n",
       "      <td>sedan</td>\n",
       "      <td>136</td>\n",
       "      <td>2824</td>\n",
       "      <td>17450.0</td>\n",
       "    </tr>\n",
       "  </tbody>\n",
       "</table>\n",
       "</div>"
      ],
      "text/plain": [
       "  aspiration      carbody  enginesize  curbweight    price\n",
       "0        std  convertible         130        2548  13495.0\n",
       "1        std  convertible         130        2548  16500.0\n",
       "2        std    hatchback         152        2823  16500.0\n",
       "3        std        sedan         109        2337  13950.0\n",
       "4        std        sedan         136        2824  17450.0"
      ]
     },
     "execution_count": 6,
     "metadata": {},
     "output_type": "execute_result"
    }
   ],
   "source": [
    "# display the first five rows\n",
    "cars.head()"
   ]
  },
  {
   "cell_type": "markdown",
   "metadata": {},
   "source": [
    "## Melt the data"
   ]
  },
  {
   "cell_type": "code",
   "execution_count": 8,
   "metadata": {},
   "outputs": [
    {
     "data": {
      "text/html": [
       "<div>\n",
       "<style scoped>\n",
       "    .dataframe tbody tr th:only-of-type {\n",
       "        vertical-align: middle;\n",
       "    }\n",
       "\n",
       "    .dataframe tbody tr th {\n",
       "        vertical-align: top;\n",
       "    }\n",
       "\n",
       "    .dataframe thead th {\n",
       "        text-align: right;\n",
       "    }\n",
       "</style>\n",
       "<table border=\"1\" class=\"dataframe\">\n",
       "  <thead>\n",
       "    <tr style=\"text-align: right;\">\n",
       "      <th></th>\n",
       "      <th>aspiration</th>\n",
       "      <th>carbody</th>\n",
       "      <th>price</th>\n",
       "      <th>feature</th>\n",
       "      <th>value</th>\n",
       "    </tr>\n",
       "  </thead>\n",
       "  <tbody>\n",
       "    <tr>\n",
       "      <th>0</th>\n",
       "      <td>std</td>\n",
       "      <td>convertible</td>\n",
       "      <td>13495.0</td>\n",
       "      <td>enginesize</td>\n",
       "      <td>130</td>\n",
       "    </tr>\n",
       "    <tr>\n",
       "      <th>1</th>\n",
       "      <td>std</td>\n",
       "      <td>convertible</td>\n",
       "      <td>16500.0</td>\n",
       "      <td>enginesize</td>\n",
       "      <td>130</td>\n",
       "    </tr>\n",
       "    <tr>\n",
       "      <th>2</th>\n",
       "      <td>std</td>\n",
       "      <td>hatchback</td>\n",
       "      <td>16500.0</td>\n",
       "      <td>enginesize</td>\n",
       "      <td>152</td>\n",
       "    </tr>\n",
       "    <tr>\n",
       "      <th>3</th>\n",
       "      <td>std</td>\n",
       "      <td>sedan</td>\n",
       "      <td>13950.0</td>\n",
       "      <td>enginesize</td>\n",
       "      <td>109</td>\n",
       "    </tr>\n",
       "    <tr>\n",
       "      <th>4</th>\n",
       "      <td>std</td>\n",
       "      <td>sedan</td>\n",
       "      <td>17450.0</td>\n",
       "      <td>enginesize</td>\n",
       "      <td>136</td>\n",
       "    </tr>\n",
       "    <tr>\n",
       "      <th>...</th>\n",
       "      <td>...</td>\n",
       "      <td>...</td>\n",
       "      <td>...</td>\n",
       "      <td>...</td>\n",
       "      <td>...</td>\n",
       "    </tr>\n",
       "    <tr>\n",
       "      <th>405</th>\n",
       "      <td>std</td>\n",
       "      <td>sedan</td>\n",
       "      <td>16845.0</td>\n",
       "      <td>curbweight</td>\n",
       "      <td>2952</td>\n",
       "    </tr>\n",
       "    <tr>\n",
       "      <th>406</th>\n",
       "      <td>turbo</td>\n",
       "      <td>sedan</td>\n",
       "      <td>19045.0</td>\n",
       "      <td>curbweight</td>\n",
       "      <td>3049</td>\n",
       "    </tr>\n",
       "    <tr>\n",
       "      <th>407</th>\n",
       "      <td>std</td>\n",
       "      <td>sedan</td>\n",
       "      <td>21485.0</td>\n",
       "      <td>curbweight</td>\n",
       "      <td>3012</td>\n",
       "    </tr>\n",
       "    <tr>\n",
       "      <th>408</th>\n",
       "      <td>turbo</td>\n",
       "      <td>sedan</td>\n",
       "      <td>22470.0</td>\n",
       "      <td>curbweight</td>\n",
       "      <td>3217</td>\n",
       "    </tr>\n",
       "    <tr>\n",
       "      <th>409</th>\n",
       "      <td>turbo</td>\n",
       "      <td>sedan</td>\n",
       "      <td>22625.0</td>\n",
       "      <td>curbweight</td>\n",
       "      <td>3062</td>\n",
       "    </tr>\n",
       "  </tbody>\n",
       "</table>\n",
       "<p>410 rows × 5 columns</p>\n",
       "</div>"
      ],
      "text/plain": [
       "    aspiration      carbody    price     feature  value\n",
       "0          std  convertible  13495.0  enginesize    130\n",
       "1          std  convertible  16500.0  enginesize    130\n",
       "2          std    hatchback  16500.0  enginesize    152\n",
       "3          std        sedan  13950.0  enginesize    109\n",
       "4          std        sedan  17450.0  enginesize    136\n",
       "..         ...          ...      ...         ...    ...\n",
       "405        std        sedan  16845.0  curbweight   2952\n",
       "406      turbo        sedan  19045.0  curbweight   3049\n",
       "407        std        sedan  21485.0  curbweight   3012\n",
       "408      turbo        sedan  22470.0  curbweight   3217\n",
       "409      turbo        sedan  22625.0  curbweight   3062\n",
       "\n",
       "[410 rows x 5 columns]"
      ]
     },
     "execution_count": 8,
     "metadata": {},
     "output_type": "execute_result"
    }
   ],
   "source": [
    "# Use the melt() method to combine the enginesize and curbweight columns. \n",
    "# Name the new variable column feature and use the default name 'value' for the value column. \n",
    "\n",
    "cars_melted = pd.melt(cars, id_vars = ['aspiration', 'carbody', 'price'], value_vars = ['enginesize', 'curbweight'], var_name = 'feature')\n",
    "cars_melted"
   ]
  },
  {
   "cell_type": "code",
   "execution_count": 9,
   "metadata": {},
   "outputs": [
    {
     "data": {
      "text/plain": [
       "<seaborn.axisgrid.FacetGrid at 0x1aff2ec31a0>"
      ]
     },
     "execution_count": 9,
     "metadata": {},
     "output_type": "execute_result"
    },
    {
     "data": {
      "image/png": "[encoded data removed]",
      "text/plain": [
       "<Figure size 1000x500 with 2 Axes>"
      ]
     },
     "metadata": {},
     "output_type": "display_data"
    }
   ],
   "source": [
    "# Use the relplot() method to create a scatterplot for the feature and price data. \n",
    "# Use the col parameter to create a different plot for each feature. \n",
    "# Use the facet_kws parameter to give each subplot an independent x-axis. \n",
    "\n",
    "sns.relplot(data = cars_melted, x = 'value', y = 'price', col = 'feature', facet_kws = {'sharex':False})\n"
   ]
  },
  {
   "cell_type": "markdown",
   "metadata": {},
   "source": [
    "## Rank the data by price"
   ]
  },
  {
   "cell_type": "code",
   "execution_count": 11,
   "metadata": {},
   "outputs": [],
   "source": [
    "# Use the rank() method to add a priceRank column that ranks each row by the price value. \n",
    "cars_melted['priceRank'] = cars_melted.price.rank(ascending = True)"
   ]
  },
  {
   "cell_type": "code",
   "execution_count": 12,
   "metadata": {},
   "outputs": [
    {
     "data": {
      "text/html": [
       "<div>\n",
       "<style scoped>\n",
       "    .dataframe tbody tr th:only-of-type {\n",
       "        vertical-align: middle;\n",
       "    }\n",
       "\n",
       "    .dataframe tbody tr th {\n",
       "        vertical-align: top;\n",
       "    }\n",
       "\n",
       "    .dataframe thead th {\n",
       "        text-align: right;\n",
       "    }\n",
       "</style>\n",
       "<table border=\"1\" class=\"dataframe\">\n",
       "  <thead>\n",
       "    <tr style=\"text-align: right;\">\n",
       "      <th></th>\n",
       "      <th>aspiration</th>\n",
       "      <th>carbody</th>\n",
       "      <th>price</th>\n",
       "      <th>feature</th>\n",
       "      <th>value</th>\n",
       "      <th>priceRank</th>\n",
       "    </tr>\n",
       "  </thead>\n",
       "  <tbody>\n",
       "    <tr>\n",
       "      <th>343</th>\n",
       "      <td>std</td>\n",
       "      <td>hatchback</td>\n",
       "      <td>5118.0</td>\n",
       "      <td>curbweight</td>\n",
       "      <td>2050</td>\n",
       "      <td>1.5</td>\n",
       "    </tr>\n",
       "    <tr>\n",
       "      <th>138</th>\n",
       "      <td>std</td>\n",
       "      <td>hatchback</td>\n",
       "      <td>5118.0</td>\n",
       "      <td>enginesize</td>\n",
       "      <td>97</td>\n",
       "      <td>1.5</td>\n",
       "    </tr>\n",
       "    <tr>\n",
       "      <th>223</th>\n",
       "      <td>std</td>\n",
       "      <td>hatchback</td>\n",
       "      <td>5151.0</td>\n",
       "      <td>curbweight</td>\n",
       "      <td>1488</td>\n",
       "      <td>3.5</td>\n",
       "    </tr>\n",
       "    <tr>\n",
       "      <th>18</th>\n",
       "      <td>std</td>\n",
       "      <td>hatchback</td>\n",
       "      <td>5151.0</td>\n",
       "      <td>enginesize</td>\n",
       "      <td>61</td>\n",
       "      <td>3.5</td>\n",
       "    </tr>\n",
       "    <tr>\n",
       "      <th>255</th>\n",
       "      <td>std</td>\n",
       "      <td>hatchback</td>\n",
       "      <td>5195.0</td>\n",
       "      <td>curbweight</td>\n",
       "      <td>1890</td>\n",
       "      <td>5.5</td>\n",
       "    </tr>\n",
       "    <tr>\n",
       "      <th>50</th>\n",
       "      <td>std</td>\n",
       "      <td>hatchback</td>\n",
       "      <td>5195.0</td>\n",
       "      <td>enginesize</td>\n",
       "      <td>91</td>\n",
       "      <td>5.5</td>\n",
       "    </tr>\n",
       "    <tr>\n",
       "      <th>150</th>\n",
       "      <td>std</td>\n",
       "      <td>hatchback</td>\n",
       "      <td>5348.0</td>\n",
       "      <td>enginesize</td>\n",
       "      <td>92</td>\n",
       "      <td>7.5</td>\n",
       "    </tr>\n",
       "    <tr>\n",
       "      <th>355</th>\n",
       "      <td>std</td>\n",
       "      <td>hatchback</td>\n",
       "      <td>5348.0</td>\n",
       "      <td>curbweight</td>\n",
       "      <td>1985</td>\n",
       "      <td>7.5</td>\n",
       "    </tr>\n",
       "    <tr>\n",
       "      <th>281</th>\n",
       "      <td>std</td>\n",
       "      <td>hatchback</td>\n",
       "      <td>5389.0</td>\n",
       "      <td>curbweight</td>\n",
       "      <td>1918</td>\n",
       "      <td>9.5</td>\n",
       "    </tr>\n",
       "    <tr>\n",
       "      <th>76</th>\n",
       "      <td>std</td>\n",
       "      <td>hatchback</td>\n",
       "      <td>5389.0</td>\n",
       "      <td>enginesize</td>\n",
       "      <td>92</td>\n",
       "      <td>9.5</td>\n",
       "    </tr>\n",
       "  </tbody>\n",
       "</table>\n",
       "</div>"
      ],
      "text/plain": [
       "    aspiration    carbody   price     feature  value  priceRank\n",
       "343        std  hatchback  5118.0  curbweight   2050        1.5\n",
       "138        std  hatchback  5118.0  enginesize     97        1.5\n",
       "223        std  hatchback  5151.0  curbweight   1488        3.5\n",
       "18         std  hatchback  5151.0  enginesize     61        3.5\n",
       "255        std  hatchback  5195.0  curbweight   1890        5.5\n",
       "50         std  hatchback  5195.0  enginesize     91        5.5\n",
       "150        std  hatchback  5348.0  enginesize     92        7.5\n",
       "355        std  hatchback  5348.0  curbweight   1985        7.5\n",
       "281        std  hatchback  5389.0  curbweight   1918        9.5\n",
       "76         std  hatchback  5389.0  enginesize     92        9.5"
      ]
     },
     "execution_count": 12,
     "metadata": {},
     "output_type": "execute_result"
    }
   ],
   "source": [
    "# display the ten rows with the lowest price in ascending order from lowest price to highest\n",
    "cars_melted.sort_values('price').head(10)"
   ]
  },
  {
   "cell_type": "markdown",
   "metadata": {},
   "source": [
    "## Bin the data with quantiles"
   ]
  },
  {
   "cell_type": "code",
   "execution_count": 14,
   "metadata": {},
   "outputs": [],
   "source": [
    "# use the qcut() method to create three price bins for the data: low, medium, and high\n",
    "# store these bins in a new column named priceGrade\n",
    "\n",
    "cars_melted['priceGrade'] = pd.qcut(cars_melted.price, q = 3, labels = ['low', 'medium', 'high'])\n",
    "cars_melted = cars_melted.sort_values('price')   # sorting for clarity"
   ]
  },
  {
   "cell_type": "code",
   "execution_count": 15,
   "metadata": {},
   "outputs": [
    {
     "data": {
      "text/plain": [
       "priceGrade\n",
       "low       138\n",
       "medium    136\n",
       "high      136\n",
       "Name: count, dtype: int64"
      ]
     },
     "execution_count": 15,
     "metadata": {},
     "output_type": "execute_result"
    }
   ],
   "source": [
    "# display the number of values for each bin in the priceGrade column - confirmed about equal\n",
    "per_bin = cars_melted['priceGrade'].value_counts()\n",
    "per_bin"
   ]
  },
  {
   "cell_type": "markdown",
   "metadata": {},
   "source": [
    "## Group and aggregate the data"
   ]
  },
  {
   "cell_type": "code",
   "execution_count": 17,
   "metadata": {},
   "outputs": [
    {
     "data": {
      "text/html": [
       "<div>\n",
       "<style scoped>\n",
       "    .dataframe tbody tr th:only-of-type {\n",
       "        vertical-align: middle;\n",
       "    }\n",
       "\n",
       "    .dataframe tbody tr th {\n",
       "        vertical-align: top;\n",
       "    }\n",
       "\n",
       "    .dataframe thead th {\n",
       "        text-align: right;\n",
       "    }\n",
       "</style>\n",
       "<table border=\"1\" class=\"dataframe\">\n",
       "  <thead>\n",
       "    <tr style=\"text-align: right;\">\n",
       "      <th></th>\n",
       "      <th>min</th>\n",
       "      <th>max</th>\n",
       "    </tr>\n",
       "    <tr>\n",
       "      <th>priceGrade</th>\n",
       "      <th></th>\n",
       "      <th></th>\n",
       "    </tr>\n",
       "  </thead>\n",
       "  <tbody>\n",
       "    <tr>\n",
       "      <th>low</th>\n",
       "      <td>5118.0</td>\n",
       "      <td>8449.0</td>\n",
       "    </tr>\n",
       "    <tr>\n",
       "      <th>medium</th>\n",
       "      <td>8495.0</td>\n",
       "      <td>13860.0</td>\n",
       "    </tr>\n",
       "    <tr>\n",
       "      <th>high</th>\n",
       "      <td>13950.0</td>\n",
       "      <td>45400.0</td>\n",
       "    </tr>\n",
       "  </tbody>\n",
       "</table>\n",
       "</div>"
      ],
      "text/plain": [
       "                min      max\n",
       "priceGrade                  \n",
       "low          5118.0   8449.0\n",
       "medium       8495.0  13860.0\n",
       "high        13950.0  45400.0"
      ]
     },
     "execution_count": 17,
     "metadata": {},
     "output_type": "execute_result"
    }
   ],
   "source": [
    "# Group the cars data by the priceGrade column. \n",
    "# Use the agg() method to aggregate the price data with the min() and max() methods. \n",
    "# This should display the highest and lowest prices for each bin. \n",
    "\n",
    "cars_priceGrade_group = cars_melted.groupby('priceGrade', observed = False)['price'].agg(['min', 'max'])\n",
    "cars_priceGrade_group\n"
   ]
  },
  {
   "cell_type": "code",
   "execution_count": 18,
   "metadata": {},
   "outputs": [
    {
     "data": {
      "text/plain": [
       "5118.0"
      ]
     },
     "execution_count": 18,
     "metadata": {},
     "output_type": "execute_result"
    }
   ],
   "source": [
    "# Sanity check: checks out\n",
    "cars_melted.price.min()"
   ]
  },
  {
   "cell_type": "code",
   "execution_count": 19,
   "metadata": {},
   "outputs": [
    {
     "data": {
      "text/plain": [
       "45400.0"
      ]
     },
     "execution_count": 19,
     "metadata": {},
     "output_type": "execute_result"
    }
   ],
   "source": [
    "# Sanity check: checks out\n",
    "cars_melted.price.max()"
   ]
  },
  {
   "cell_type": "code",
   "execution_count": 20,
   "metadata": {},
   "outputs": [
    {
     "data": {
      "text/html": [
       "<div>\n",
       "<style scoped>\n",
       "    .dataframe tbody tr th:only-of-type {\n",
       "        vertical-align: middle;\n",
       "    }\n",
       "\n",
       "    .dataframe tbody tr th {\n",
       "        vertical-align: top;\n",
       "    }\n",
       "\n",
       "    .dataframe thead th {\n",
       "        text-align: right;\n",
       "    }\n",
       "</style>\n",
       "<table border=\"1\" class=\"dataframe\">\n",
       "  <thead>\n",
       "    <tr style=\"text-align: right;\">\n",
       "      <th></th>\n",
       "      <th></th>\n",
       "      <th>mean</th>\n",
       "    </tr>\n",
       "    <tr>\n",
       "      <th>carbody</th>\n",
       "      <th>aspiration</th>\n",
       "      <th></th>\n",
       "    </tr>\n",
       "  </thead>\n",
       "  <tbody>\n",
       "    <tr>\n",
       "      <th>convertible</th>\n",
       "      <th>std</th>\n",
       "      <td>21890.50</td>\n",
       "    </tr>\n",
       "    <tr>\n",
       "      <th rowspan=\"2\" valign=\"top\">hardtop</th>\n",
       "      <th>std</th>\n",
       "      <td>21356.00</td>\n",
       "    </tr>\n",
       "    <tr>\n",
       "      <th>turbo</th>\n",
       "      <td>28176.00</td>\n",
       "    </tr>\n",
       "    <tr>\n",
       "      <th rowspan=\"2\" valign=\"top\">hatchback</th>\n",
       "      <th>std</th>\n",
       "      <td>9699.61</td>\n",
       "    </tr>\n",
       "    <tr>\n",
       "      <th>turbo</th>\n",
       "      <td>13345.24</td>\n",
       "    </tr>\n",
       "    <tr>\n",
       "      <th rowspan=\"2\" valign=\"top\">sedan</th>\n",
       "      <th>std</th>\n",
       "      <td>13660.37</td>\n",
       "    </tr>\n",
       "    <tr>\n",
       "      <th>turbo</th>\n",
       "      <td>17307.83</td>\n",
       "    </tr>\n",
       "    <tr>\n",
       "      <th rowspan=\"2\" valign=\"top\">wagon</th>\n",
       "      <th>std</th>\n",
       "      <td>10973.60</td>\n",
       "    </tr>\n",
       "    <tr>\n",
       "      <th>turbo</th>\n",
       "      <td>17965.40</td>\n",
       "    </tr>\n",
       "  </tbody>\n",
       "</table>\n",
       "</div>"
      ],
      "text/plain": [
       "                            mean\n",
       "carbody     aspiration          \n",
       "convertible std         21890.50\n",
       "hardtop     std         21356.00\n",
       "            turbo       28176.00\n",
       "hatchback   std          9699.61\n",
       "            turbo       13345.24\n",
       "sedan       std         13660.37\n",
       "            turbo       17307.83\n",
       "wagon       std         10973.60\n",
       "            turbo       17965.40"
      ]
     },
     "execution_count": 20,
     "metadata": {},
     "output_type": "execute_result"
    }
   ],
   "source": [
    "# Group the data by the carbody and aspiration columns, and get the average price for each group. \n",
    "# This returns a Series object with an index that’s created from the carbody and aspiration columns. \n",
    "\n",
    "cars_body_asp_group = cars_melted.groupby(['carbody', 'aspiration'], observed = False)['price'].agg(['mean']).round(2)\n",
    "cars_body_asp_group"
   ]
  },
  {
   "cell_type": "code",
   "execution_count": 21,
   "metadata": {},
   "outputs": [
    {
     "data": {
      "text/html": [
       "<div>\n",
       "<style scoped>\n",
       "    .dataframe tbody tr th:only-of-type {\n",
       "        vertical-align: middle;\n",
       "    }\n",
       "\n",
       "    .dataframe tbody tr th {\n",
       "        vertical-align: top;\n",
       "    }\n",
       "\n",
       "    .dataframe thead tr th {\n",
       "        text-align: left;\n",
       "    }\n",
       "\n",
       "    .dataframe thead tr:last-of-type th {\n",
       "        text-align: right;\n",
       "    }\n",
       "</style>\n",
       "<table border=\"1\" class=\"dataframe\">\n",
       "  <thead>\n",
       "    <tr>\n",
       "      <th></th>\n",
       "      <th colspan=\"2\" halign=\"left\">mean</th>\n",
       "    </tr>\n",
       "    <tr>\n",
       "      <th>aspiration</th>\n",
       "      <th>std</th>\n",
       "      <th>turbo</th>\n",
       "    </tr>\n",
       "    <tr>\n",
       "      <th>carbody</th>\n",
       "      <th></th>\n",
       "      <th></th>\n",
       "    </tr>\n",
       "  </thead>\n",
       "  <tbody>\n",
       "    <tr>\n",
       "      <th>convertible</th>\n",
       "      <td>21890.50</td>\n",
       "      <td>NaN</td>\n",
       "    </tr>\n",
       "    <tr>\n",
       "      <th>hardtop</th>\n",
       "      <td>21356.00</td>\n",
       "      <td>28176.00</td>\n",
       "    </tr>\n",
       "    <tr>\n",
       "      <th>hatchback</th>\n",
       "      <td>9699.61</td>\n",
       "      <td>13345.24</td>\n",
       "    </tr>\n",
       "    <tr>\n",
       "      <th>sedan</th>\n",
       "      <td>13660.37</td>\n",
       "      <td>17307.83</td>\n",
       "    </tr>\n",
       "    <tr>\n",
       "      <th>wagon</th>\n",
       "      <td>10973.60</td>\n",
       "      <td>17965.40</td>\n",
       "    </tr>\n",
       "  </tbody>\n",
       "</table>\n",
       "</div>"
      ],
      "text/plain": [
       "                 mean          \n",
       "aspiration        std     turbo\n",
       "carbody                        \n",
       "convertible  21890.50       NaN\n",
       "hardtop      21356.00  28176.00\n",
       "hatchback     9699.61  13345.24\n",
       "sedan        13660.37  17307.83\n",
       "wagon        10973.60  17965.40"
      ]
     },
     "execution_count": 21,
     "metadata": {},
     "output_type": "execute_result"
    }
   ],
   "source": [
    "# unstack the aspiration column of the index so the aspiration values are displayed as columns. \n",
    "cars_body_asp_unstacked = cars_body_asp_group.unstack(level = 'aspiration')\n",
    "cars_body_asp_unstacked   # Confirmed:  The aspiration values (std and turbo) now display as columns\n"
   ]
  },
  {
   "cell_type": "code",
   "execution_count": 22,
   "metadata": {},
   "outputs": [
    {
     "data": {
      "text/html": [
       "<div>\n",
       "<style scoped>\n",
       "    .dataframe tbody tr th:only-of-type {\n",
       "        vertical-align: middle;\n",
       "    }\n",
       "\n",
       "    .dataframe tbody tr th {\n",
       "        vertical-align: top;\n",
       "    }\n",
       "\n",
       "    .dataframe thead th {\n",
       "        text-align: right;\n",
       "    }\n",
       "</style>\n",
       "<table border=\"1\" class=\"dataframe\">\n",
       "  <thead>\n",
       "    <tr style=\"text-align: right;\">\n",
       "      <th>aspiration</th>\n",
       "      <th>std</th>\n",
       "      <th>turbo</th>\n",
       "    </tr>\n",
       "    <tr>\n",
       "      <th>carbody</th>\n",
       "      <th></th>\n",
       "      <th></th>\n",
       "    </tr>\n",
       "  </thead>\n",
       "  <tbody>\n",
       "    <tr>\n",
       "      <th>convertible</th>\n",
       "      <td>21890.50</td>\n",
       "      <td>NaN</td>\n",
       "    </tr>\n",
       "    <tr>\n",
       "      <th>hardtop</th>\n",
       "      <td>21356.00</td>\n",
       "      <td>28176.00</td>\n",
       "    </tr>\n",
       "    <tr>\n",
       "      <th>hatchback</th>\n",
       "      <td>9699.61</td>\n",
       "      <td>13345.24</td>\n",
       "    </tr>\n",
       "    <tr>\n",
       "      <th>sedan</th>\n",
       "      <td>13660.37</td>\n",
       "      <td>17307.83</td>\n",
       "    </tr>\n",
       "    <tr>\n",
       "      <th>wagon</th>\n",
       "      <td>10973.60</td>\n",
       "      <td>17965.40</td>\n",
       "    </tr>\n",
       "  </tbody>\n",
       "</table>\n",
       "</div>"
      ],
      "text/plain": [
       "aspiration        std     turbo\n",
       "carbody                        \n",
       "convertible  21890.50       NaN\n",
       "hardtop      21356.00  28176.00\n",
       "hatchback     9699.61  13345.24\n",
       "sedan        13660.37  17307.83\n",
       "wagon        10973.60  17965.40"
      ]
     },
     "execution_count": 22,
     "metadata": {},
     "output_type": "execute_result"
    }
   ],
   "source": [
    "# use the pivot_table() method to accomplish the same task as the previous cell\n",
    "\n",
    "cars_body_asp_pivotTable = cars_melted.pivot_table(index = 'carbody', columns = 'aspiration', values = 'price', aggfunc = 'mean').round(2)\n",
    "cars_body_asp_pivotTable   # should be same as prior step - checks out"
   ]
  },
  {
   "cell_type": "code",
   "execution_count": 23,
   "metadata": {},
   "outputs": [
    {
     "data": {
      "text/plain": [
       "<Axes: title={'center': 'Average Car Price by Body Type and Aspiration'}, xlabel='carbody'>"
      ]
     },
     "execution_count": 23,
     "metadata": {},
     "output_type": "execute_result"
    },
    {
     "data": {
      "image/png": "[encoded data removed]",
      "text/plain": [
       "<Figure size 1000x600 with 1 Axes>"
      ]
     },
     "metadata": {},
     "output_type": "display_data"
    }
   ],
   "source": [
    "# use the Pandas plot() method to create a bar chart for the DataFrame created in the previous cell\n",
    "\n",
    "cars_body_asp_pivotTable.plot(kind = 'bar', figsize = (10, 6), title = 'Average Car Price by Body Type and Aspiration')\n"
   ]
  }
 ],
 "metadata": {
  "kernelspec": {
   "display_name": "Python 3 (ipykernel)",
   "language": "python",
   "name": "python3"
  },
  "language_info": {
   "codemirror_mode": {
    "name": "ipython",
    "version": 3
   },
   "file_extension": ".py",
   "mimetype": "text/x-python",
   "name": "python",
   "nbconvert_exporter": "python",
   "pygments_lexer": "ipython3",
   "version": "3.12.7"
  }
 },
 "nbformat": 4,
 "nbformat_minor": 4
}
